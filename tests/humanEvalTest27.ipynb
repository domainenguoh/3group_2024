{
 "cells": [
  {
   "cell_type": "code",
   "execution_count": 1,
   "metadata": {},
   "outputs": [
    {
     "name": "stderr",
     "output_type": "stream",
     "text": [
      "Unused kwargs: ['_load_in_4bit', '_load_in_8bit', 'quant_method']. These kwargs are not used in <class 'transformers.utils.quantization_config.BitsAndBytesConfig'>.\n",
      "`low_cpu_mem_usage` was None, now set to True since model is quantized.\n",
      "c:\\Users\\ysch2\\Documents\\GitHub\\advancedTopicsSoftwareEngineer\\venv\\Lib\\site-packages\\transformers\\generation\\utils.py:1885: UserWarning: You are calling .generate() with the `input_ids` being on a device type different than your model's device. `input_ids` is on cpu, whereas the model is on cuda. You may experience unexpected behaviors or slower generation. Please make sure that you have put `input_ids` to the correct device by calling for example input_ids = input_ids.to('cuda') before running `.generate()`.\n",
      "  warnings.warn(\n"
     ]
    },
    {
     "name": "stdout",
     "output_type": "stream",
     "text": [
      "Input: Hello\n",
      "Model Output: //\n",
      "        //   Hello\n",
      "        //\n",
      "        //   Hello\n",
      "        //\n",
      "        //   Hello\n",
      "        //\n",
      "        //   Hello\n",
      "        //\n",
      "        //\n",
      "Expected: hELLO\n",
      "Input: WORLD\n",
      "Model Output: //\n",
      "        // 1.flip the string 'WORLD'\n",
      "        //\n",
      "        // 2. and then,\n",
      "        //\n",
      "        // 3\n",
      "Expected: world\n",
      "Input: python\n",
      "Model Output: #робат\n",
      "        #\n",
      "        #\n",
      "        #\n",
      "        #\n",
      "        #\n",
      "        #\n",
      "        #\n",
      "        #\n",
      "        #\n",
      "        #\n",
      "Expected: PYTHON\n",
      "Input: PyThOn123\n",
      "Model Output: self.PyThOn123\n",
      "Expected: pYtHoN123\n",
      "Input: 123\n",
      "Model Output: //\n",
      "        //  123\n",
      "        //\n",
      "        //  123\n",
      "        //\n",
      "        //  123\n",
      "        //\n",
      "        //\n",
      "Expected: 123\n"
     ]
    }
   ],
   "source": [
    "import torch\n",
    "from transformers import LlamaForCausalLM, LlamaTokenizer\n",
    "\n",
    "### HumanEval #27 Model Response ###\n",
    "\n",
    "# Initialize model and tokenizer\n",
    "model_name = \"finegptproject/humaneval_SFTTrainer_model\"\n",
    "tokenizer = LlamaTokenizer.from_pretrained(model_name)\n",
    "model = LlamaForCausalLM.from_pretrained(model_name)\n",
    "\n",
    "# Define the test cases\n",
    "test_cases = [\n",
    "    ('Hello', 'hELLO'),\n",
    "    ('WORLD', 'world'),\n",
    "    ('python', 'PYTHON'),\n",
    "    ('PyThOn123', 'pYtHoN123'),\n",
    "    ('123', '123')  # No change expected as there are no alphabetic characters\n",
    "]\n",
    "\n",
    "def run_test_cases(test_cases):\n",
    "    for input_str, expected in test_cases:\n",
    "        # Create a prompt for the model to flip the case\n",
    "        prompt = f\"Flip the case of the string '{input_str}':\"\n",
    "        inputs_encoded = tokenizer(prompt, return_tensors='pt')\n",
    "        \n",
    "        # Generate the output\n",
    "        with torch.no_grad():\n",
    "            outputs = model.generate(**inputs_encoded, max_length=50, num_return_sequences=1)\n",
    "        \n",
    "        output_str = tokenizer.decode(outputs[0], skip_special_tokens=True).strip()\n",
    "        #print(f\"Raw Model Output: {output_str}\")  # Debug print\n",
    "\n",
    "        # Attempt to clean up the model output and extract the relevant flipped string\n",
    "        result = output_str.split(':')[-1].strip() if ':' in output_str else output_str.strip()\n",
    "        \n",
    "        # Determine if the result matches the expected output\n",
    "\n",
    "        print(f\"Input: {input_str}\")\n",
    "        print(f\"Model Output: {result}\")\n",
    "        print(f\"Expected: {expected}\")\n",
    "\n",
    "# Run the test cases\n",
    "run_test_cases(test_cases)\n",
    "\n"
   ]
  },
  {
   "cell_type": "code",
   "execution_count": 2,
   "metadata": {},
   "outputs": [
    {
     "name": "stderr",
     "output_type": "stream",
     "text": [
      "c:\\Users\\ysch2\\Documents\\GitHub\\advancedTopicsSoftwareEngineer\\venv\\Lib\\site-packages\\transformers\\tokenization_utils_base.py:1601: FutureWarning: `clean_up_tokenization_spaces` was not set. It will be set to `True` by default. This behavior will be depracted in transformers v4.45, and will be then set to `False` by default. For more details check this issue: https://github.com/huggingface/transformers/issues/31884\n",
      "  warnings.warn(\n",
      "Setting `pad_token_id` to `eos_token_id`:50256 for open-end generation.\n",
      "Setting `pad_token_id` to `eos_token_id`:50256 for open-end generation.\n"
     ]
    },
    {
     "name": "stdout",
     "output_type": "stream",
     "text": [
      "Input: Hello\n",
      "Model Output: application/json' -d '{ \"\n",
      "Expected: hELLO\n"
     ]
    },
    {
     "name": "stderr",
     "output_type": "stream",
     "text": [
      "Setting `pad_token_id` to `eos_token_id`:50256 for open-end generation.\n"
     ]
    },
    {
     "name": "stdout",
     "output_type": "stream",
     "text": [
      "Input: WORLD\n",
      "Model Output: $ python -m \"world.py -p 'WORLD' -p 'WORLD' -p 'WORLD' -p 'WORLD' -p 'WORLD\n",
      "Expected: world\n"
     ]
    },
    {
     "name": "stderr",
     "output_type": "stream",
     "text": [
      "Setting `pad_token_id` to `eos_token_id`:50256 for open-end generation.\n"
     ]
    },
    {
     "name": "stdout",
     "output_type": "stream",
     "text": [
      "Input: python\n",
      "Model Output: from string import string\n",
      "\n",
      "from string.decimal import decimal\n",
      "\n",
      "from string.decimal import decimal.decimal\n",
      "\n",
      "from string.string import string.decimal\n",
      "Expected: PYTHON\n"
     ]
    },
    {
     "name": "stderr",
     "output_type": "stream",
     "text": [
      "Setting `pad_token_id` to `eos_token_id`:50256 for open-end generation.\n"
     ]
    },
    {
     "name": "stdout",
     "output_type": "stream",
     "text": [
      "Input: PyThOn123\n",
      "Model Output: PyThOn123 = '123'\n",
      "\n",
      "PyThOn123 = '123'\n",
      "\n",
      "PyThOn123 = '123'\n",
      "\n",
      "PyThOn123 =\n",
      "Expected: pYtHoN123\n",
      "Input: 123\n",
      "Model Output: 3000/foo/\n",
      "Expected: 123\n"
     ]
    }
   ],
   "source": [
    "import torch\n",
    "from transformers import GPT2LMHeadModel, GPT2Tokenizer\n",
    "\n",
    "### HumanEval #27 GPT2 Response ###\n",
    "\n",
    "# Initialize model and tokenizer\n",
    "model_name = \"gpt2\" \n",
    "tokenizer = GPT2Tokenizer.from_pretrained(model_name)\n",
    "model = GPT2LMHeadModel.from_pretrained(model_name)\n",
    "\n",
    "\n",
    "# Define the test cases\n",
    "test_cases = [\n",
    "    ('Hello', 'hELLO'),\n",
    "    ('WORLD', 'world'),\n",
    "    ('python', 'PYTHON'),\n",
    "    ('PyThOn123', 'pYtHoN123'),\n",
    "    ('123', '123')  # No change expected as there are no alphabetic characters\n",
    "]\n",
    "\n",
    "def run_test_cases(test_cases):\n",
    "    for input_str, expected in test_cases:\n",
    "        # Create a prompt for the model to flip the case\n",
    "        prompt = f\"Flip the case of the string '{input_str}':\"\n",
    "        inputs_encoded = tokenizer(prompt, return_tensors='pt')\n",
    "        \n",
    "        # Generate the output\n",
    "        with torch.no_grad():\n",
    "            outputs = model.generate(**inputs_encoded, max_length=50, num_return_sequences=1)\n",
    "        \n",
    "        output_str = tokenizer.decode(outputs[0], skip_special_tokens=True).strip()\n",
    "        #print(f\"Raw Model Output: {output_str}\")  # Debug print\n",
    "\n",
    "        # Attempt to clean up the model output and extract the relevant flipped string\n",
    "        result = output_str.split(':')[-1].strip() if ':' in output_str else output_str.strip()\n",
    "        \n",
    "        # Determine if the result matches the expected output\n",
    "\n",
    "        print(f\"Input: {input_str}\")\n",
    "        print(f\"Model Output: {result}\")\n",
    "        print(f\"Expected: {expected}\")\n",
    "\n",
    "# Run the test cases\n",
    "run_test_cases(test_cases)\n"
   ]
  },
  {
   "cell_type": "code",
   "execution_count": null,
   "metadata": {},
   "outputs": [],
   "source": []
  }
 ],
 "metadata": {
  "kernelspec": {
   "display_name": "Python 3",
   "language": "python",
   "name": "python3"
  },
  "language_info": {
   "codemirror_mode": {
    "name": "ipython",
    "version": 3
   },
   "file_extension": ".py",
   "mimetype": "text/x-python",
   "name": "python",
   "nbconvert_exporter": "python",
   "pygments_lexer": "ipython3",
   "version": "3.11.9"
  }
 },
 "nbformat": 4,
 "nbformat_minor": 2
}
